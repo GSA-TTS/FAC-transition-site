{
 "cells": [
  {
   "cell_type": "code",
   "execution_count": null,
   "metadata": {},
   "outputs": [],
   "source": [
    "# Import external libraries first.\n",
    "%pip install pyodide-http requests peewee openpyxl pandas sqlite3"
   ]
  },
  {
   "cell_type": "code",
   "execution_count": null,
   "metadata": {},
   "outputs": [],
   "source": [
    "# After those load, import local libraries.\n",
    "from libraries import findings_by_aln as fba\n",
    "from fac import FAC_API_KEY"
   ]
  },
  {
   "cell_type": "markdown",
   "metadata": {},
   "source": [
    "# Findings per ALN\n",
    "\n",
    "There was a 5-day period where search was not available. During that time, we published Excel workbooks that provided Federal users a set of spreadsheets that tracked findings on a per-ALN basis."
   ]
  },
  {
   "cell_type": "code",
   "execution_count": null,
   "metadata": {},
   "outputs": [],
   "source": [
    "# Set the API key for the library\n",
    "fba.set_api_key(FAC_API_KEY)\n",
    "# Changing the date generates a different workbook in the `xlsx` directory\n",
    "fba.findings_by_aln(\"2024-06-17\")"
   ]
  }
 ],
 "metadata": {
  "language_info": {
   "name": "python"
  }
 },
 "nbformat": 4,
 "nbformat_minor": 2
}
