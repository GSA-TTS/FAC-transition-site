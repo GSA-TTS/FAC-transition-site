{
 "cells": [
  {
   "cell_type": "code",
   "execution_count": null,
   "metadata": {},
   "outputs": [],
   "source": [
    "# First, install packages required by the notebook\n",
    "%pip install pyodide-http requests pandas openpyxl\n",
    "# Import the FAC support library\n",
    "import fac\n",
    "# Import the code for this demo\n",
    "from libraries import sum_over_alns as soa"
   ]
  },
  {
   "cell_type": "markdown",
   "metadata": {},
   "source": [
    "# Does the API work\n",
    "\n",
    "The first thing we'll check is if the API works.\n",
    "\n",
    "If it does, we'll get back one record from the `general` API endpoint.\n",
    "\n",
    "If not, it will throw some kind of error.\n",
    "\n",
    "This means you should 1) obtain an API key, and 2) copy the key you receieve into the file `api_key.py`. "
   ]
  },
  {
   "cell_type": "code",
   "execution_count": null,
   "metadata": {},
   "outputs": [],
   "source": [
    "payload = { \"api_key\": fac.FAC_API_KEY }\n",
    "query = payload | { \"limit\": 1 }\n",
    "r = fac.get(\"general\", params = query)\n",
    "print(r.text)"
   ]
  },
  {
   "cell_type": "markdown",
   "metadata": {},
   "source": [
    "# Calculate the dollars per ALN \n",
    "\n",
    "This demonstrates a calculation using the FAC API. \n",
    "\n",
    "Given a list of ALNs, it:\n",
    "\n",
    "1. Looks up all awards with those ALNs, and\n",
    "2. Adds up the direct funding on those awards.\n",
    "\n",
    "In this example, we're using a list of ALNs from Treasury. To test it with another list, you could create a file called `my_agency.alns` in the `files` folder, and enter one ALN per line. Then, change the code below to use the file `my_agency.alns` instead of `treasury.alns`. You can also change the year and date to explore other points in history.\n",
    "\n",
    "Note this does take a while."
   ]
  },
  {
   "cell_type": "code",
   "execution_count": null,
   "metadata": {},
   "outputs": [],
   "source": [
    "soa.sum_over_alns(\"files/treasury.alns\", \"2023\", \"2024-06-19\", None, api_key=fac.FAC_API_KEY)"
   ]
  }
 ],
 "metadata": {
  "kernelspec": {
   "display_name": "Python 3",
   "language": "python",
   "name": "python3"
  },
  "language_info": {
   "codemirror_mode": {
    "name": "ipython",
    "version": 3
   },
   "file_extension": ".py",
   "mimetype": "text/x-python",
   "name": "python",
   "nbconvert_exporter": "python",
   "pygments_lexer": "ipython3",
   "version": "3.11.9"
  }
 },
 "nbformat": 4,
 "nbformat_minor": 2
}
